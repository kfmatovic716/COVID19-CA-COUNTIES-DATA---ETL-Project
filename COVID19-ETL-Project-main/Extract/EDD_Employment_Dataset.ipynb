{
 "cells": [
  {
   "cell_type": "markdown",
   "metadata": {},
   "source": [
    "###Extract EDD Employment Dataset "
   ]
  },
  {
   "cell_type": "code",
   "execution_count": 5,
   "metadata": {},
   "outputs": [
    {
     "name": "stdout",
     "output_type": "stream",
     "text": [
      "Collecting sodapy\n",
      "  Downloading sodapy-2.1.0-py2.py3-none-any.whl (14 kB)\n",
      "Requirement already satisfied: requests>=2.20.0 in /Users/ellismok/opt/anaconda3/lib/python3.8/site-packages (from sodapy) (2.24.0)\n",
      "Requirement already satisfied: urllib3!=1.25.0,!=1.25.1,<1.26,>=1.21.1 in /Users/ellismok/opt/anaconda3/lib/python3.8/site-packages (from requests>=2.20.0->sodapy) (1.25.11)\n",
      "Requirement already satisfied: chardet<4,>=3.0.2 in /Users/ellismok/opt/anaconda3/lib/python3.8/site-packages (from requests>=2.20.0->sodapy) (3.0.4)\n",
      "Requirement already satisfied: certifi>=2017.4.17 in /Users/ellismok/opt/anaconda3/lib/python3.8/site-packages (from requests>=2.20.0->sodapy) (2020.6.20)\n",
      "Requirement already satisfied: idna<3,>=2.5 in /Users/ellismok/opt/anaconda3/lib/python3.8/site-packages (from requests>=2.20.0->sodapy) (2.10)\n",
      "Installing collected packages: sodapy\n",
      "Successfully installed sodapy-2.1.0\n",
      "Note: you may need to restart the kernel to use updated packages.\n"
     ]
    }
   ],
   "source": [
    "# Install Sodapy to read Socrata \n",
    "# pip install sodapy"
   ]
  },
  {
   "cell_type": "code",
   "execution_count": 18,
   "metadata": {},
   "outputs": [],
   "source": [
    "# Import important libraries\n",
    "import pandas as pd\n",
    "from sodapy import Socrata\n",
    "import requests"
   ]
  },
  {
   "cell_type": "code",
   "execution_count": 19,
   "metadata": {},
   "outputs": [
    {
     "name": "stderr",
     "output_type": "stream",
     "text": [
      "WARNING:root:Requests made without an app_token will be subject to strict throttling limits.\n"
     ]
    }
   ],
   "source": [
    "# Unauthenticated client only works with public data sets. Note 'None'\n",
    "client = Socrata(\"data.edd.ca.gov\", None)"
   ]
  },
  {
   "cell_type": "code",
   "execution_count": 63,
   "metadata": {},
   "outputs": [],
   "source": [
    "# client = Socrata(data.edd.ca.gov,\n",
    "#                  MyAppToken,\n",
    "#                  userame=,\n",
    "#                  password=)"
   ]
  },
  {
   "cell_type": "code",
   "execution_count": 58,
   "metadata": {},
   "outputs": [],
   "source": [
    "# Read \n",
    "results = client.get(\"e6gw-gvii\", limit=26000)"
   ]
  },
  {
   "cell_type": "code",
   "execution_count": 59,
   "metadata": {},
   "outputs": [],
   "source": [
    "results_df = pd.DataFrame.from_records(results)"
   ]
  },
  {
   "cell_type": "code",
   "execution_count": 60,
   "metadata": {},
   "outputs": [
    {
     "data": {
      "text/html": [
       "<div>\n",
       "<style scoped>\n",
       "    .dataframe tbody tr th:only-of-type {\n",
       "        vertical-align: middle;\n",
       "    }\n",
       "\n",
       "    .dataframe tbody tr th {\n",
       "        vertical-align: top;\n",
       "    }\n",
       "\n",
       "    .dataframe thead th {\n",
       "        text-align: right;\n",
       "    }\n",
       "</style>\n",
       "<table border=\"1\" class=\"dataframe\">\n",
       "  <thead>\n",
       "    <tr style=\"text-align: right;\">\n",
       "      <th></th>\n",
       "      <th>area_type</th>\n",
       "      <th>area_name</th>\n",
       "      <th>date</th>\n",
       "      <th>year</th>\n",
       "      <th>month</th>\n",
       "      <th>seasonally_adjusted_y_n</th>\n",
       "      <th>status_preliminary_final</th>\n",
       "      <th>labor_force</th>\n",
       "      <th>employment</th>\n",
       "      <th>unemployment</th>\n",
       "      <th>unemployment_rate</th>\n",
       "    </tr>\n",
       "  </thead>\n",
       "  <tbody>\n",
       "    <tr>\n",
       "      <th>0</th>\n",
       "      <td>County</td>\n",
       "      <td>Alameda County</td>\n",
       "      <td>2021-01-01T00:00:00.000</td>\n",
       "      <td>2021</td>\n",
       "      <td>January</td>\n",
       "      <td>N</td>\n",
       "      <td>Preliminary</td>\n",
       "      <td>802100</td>\n",
       "      <td>743800</td>\n",
       "      <td>58300</td>\n",
       "      <td>0.073</td>\n",
       "    </tr>\n",
       "    <tr>\n",
       "      <th>1</th>\n",
       "      <td>County</td>\n",
       "      <td>Alpine County</td>\n",
       "      <td>2021-01-01T00:00:00.000</td>\n",
       "      <td>2021</td>\n",
       "      <td>January</td>\n",
       "      <td>N</td>\n",
       "      <td>Preliminary</td>\n",
       "      <td>620</td>\n",
       "      <td>580</td>\n",
       "      <td>40</td>\n",
       "      <td>0.069</td>\n",
       "    </tr>\n",
       "    <tr>\n",
       "      <th>2</th>\n",
       "      <td>County</td>\n",
       "      <td>Amador County</td>\n",
       "      <td>2021-01-01T00:00:00.000</td>\n",
       "      <td>2021</td>\n",
       "      <td>January</td>\n",
       "      <td>N</td>\n",
       "      <td>Preliminary</td>\n",
       "      <td>14330</td>\n",
       "      <td>13140</td>\n",
       "      <td>1190</td>\n",
       "      <td>0.083</td>\n",
       "    </tr>\n",
       "    <tr>\n",
       "      <th>3</th>\n",
       "      <td>County</td>\n",
       "      <td>Butte County</td>\n",
       "      <td>2021-01-01T00:00:00.000</td>\n",
       "      <td>2021</td>\n",
       "      <td>January</td>\n",
       "      <td>N</td>\n",
       "      <td>Preliminary</td>\n",
       "      <td>89100</td>\n",
       "      <td>81700</td>\n",
       "      <td>7400</td>\n",
       "      <td>0.083</td>\n",
       "    </tr>\n",
       "    <tr>\n",
       "      <th>4</th>\n",
       "      <td>County</td>\n",
       "      <td>Calaveras County</td>\n",
       "      <td>2021-01-01T00:00:00.000</td>\n",
       "      <td>2021</td>\n",
       "      <td>January</td>\n",
       "      <td>N</td>\n",
       "      <td>Preliminary</td>\n",
       "      <td>21140</td>\n",
       "      <td>19670</td>\n",
       "      <td>1460</td>\n",
       "      <td>0.069</td>\n",
       "    </tr>\n",
       "    <tr>\n",
       "      <th>...</th>\n",
       "      <td>...</td>\n",
       "      <td>...</td>\n",
       "      <td>...</td>\n",
       "      <td>...</td>\n",
       "      <td>...</td>\n",
       "      <td>...</td>\n",
       "      <td>...</td>\n",
       "      <td>...</td>\n",
       "      <td>...</td>\n",
       "      <td>...</td>\n",
       "      <td>...</td>\n",
       "    </tr>\n",
       "    <tr>\n",
       "      <th>25995</th>\n",
       "      <td>County</td>\n",
       "      <td>Orange County</td>\n",
       "      <td>2004-06-01T00:00:00.000</td>\n",
       "      <td>2004</td>\n",
       "      <td>June</td>\n",
       "      <td>N</td>\n",
       "      <td>Final</td>\n",
       "      <td>1563600</td>\n",
       "      <td>1492500</td>\n",
       "      <td>71100</td>\n",
       "      <td>0.045</td>\n",
       "    </tr>\n",
       "    <tr>\n",
       "      <th>25996</th>\n",
       "      <td>County</td>\n",
       "      <td>Placer County</td>\n",
       "      <td>2004-06-01T00:00:00.000</td>\n",
       "      <td>2004</td>\n",
       "      <td>June</td>\n",
       "      <td>N</td>\n",
       "      <td>Final</td>\n",
       "      <td>158900</td>\n",
       "      <td>150800</td>\n",
       "      <td>8200</td>\n",
       "      <td>0.051</td>\n",
       "    </tr>\n",
       "    <tr>\n",
       "      <th>25997</th>\n",
       "      <td>County</td>\n",
       "      <td>Plumas County</td>\n",
       "      <td>2004-06-01T00:00:00.000</td>\n",
       "      <td>2004</td>\n",
       "      <td>June</td>\n",
       "      <td>N</td>\n",
       "      <td>Final</td>\n",
       "      <td>10960</td>\n",
       "      <td>10110</td>\n",
       "      <td>850</td>\n",
       "      <td>0.077</td>\n",
       "    </tr>\n",
       "    <tr>\n",
       "      <th>25998</th>\n",
       "      <td>County</td>\n",
       "      <td>Riverside County</td>\n",
       "      <td>2004-06-01T00:00:00.000</td>\n",
       "      <td>2004</td>\n",
       "      <td>June</td>\n",
       "      <td>N</td>\n",
       "      <td>Final</td>\n",
       "      <td>815300</td>\n",
       "      <td>765200</td>\n",
       "      <td>50100</td>\n",
       "      <td>0.062</td>\n",
       "    </tr>\n",
       "    <tr>\n",
       "      <th>25999</th>\n",
       "      <td>County</td>\n",
       "      <td>Sacramento County</td>\n",
       "      <td>2004-06-01T00:00:00.000</td>\n",
       "      <td>2004</td>\n",
       "      <td>June</td>\n",
       "      <td>N</td>\n",
       "      <td>Final</td>\n",
       "      <td>660100</td>\n",
       "      <td>621300</td>\n",
       "      <td>38700</td>\n",
       "      <td>0.059</td>\n",
       "    </tr>\n",
       "  </tbody>\n",
       "</table>\n",
       "<p>26000 rows × 11 columns</p>\n",
       "</div>"
      ],
      "text/plain": [
       "      area_type          area_name                     date  year    month  \\\n",
       "0        County     Alameda County  2021-01-01T00:00:00.000  2021  January   \n",
       "1        County      Alpine County  2021-01-01T00:00:00.000  2021  January   \n",
       "2        County      Amador County  2021-01-01T00:00:00.000  2021  January   \n",
       "3        County       Butte County  2021-01-01T00:00:00.000  2021  January   \n",
       "4        County   Calaveras County  2021-01-01T00:00:00.000  2021  January   \n",
       "...         ...                ...                      ...   ...      ...   \n",
       "25995    County      Orange County  2004-06-01T00:00:00.000  2004     June   \n",
       "25996    County      Placer County  2004-06-01T00:00:00.000  2004     June   \n",
       "25997    County      Plumas County  2004-06-01T00:00:00.000  2004     June   \n",
       "25998    County   Riverside County  2004-06-01T00:00:00.000  2004     June   \n",
       "25999    County  Sacramento County  2004-06-01T00:00:00.000  2004     June   \n",
       "\n",
       "      seasonally_adjusted_y_n status_preliminary_final labor_force employment  \\\n",
       "0                           N              Preliminary      802100     743800   \n",
       "1                           N              Preliminary         620        580   \n",
       "2                           N              Preliminary       14330      13140   \n",
       "3                           N              Preliminary       89100      81700   \n",
       "4                           N              Preliminary       21140      19670   \n",
       "...                       ...                      ...         ...        ...   \n",
       "25995                       N                    Final     1563600    1492500   \n",
       "25996                       N                    Final      158900     150800   \n",
       "25997                       N                    Final       10960      10110   \n",
       "25998                       N                    Final      815300     765200   \n",
       "25999                       N                    Final      660100     621300   \n",
       "\n",
       "      unemployment unemployment_rate  \n",
       "0            58300             0.073  \n",
       "1               40             0.069  \n",
       "2             1190             0.083  \n",
       "3             7400             0.083  \n",
       "4             1460             0.069  \n",
       "...            ...               ...  \n",
       "25995        71100             0.045  \n",
       "25996         8200             0.051  \n",
       "25997          850             0.077  \n",
       "25998        50100             0.062  \n",
       "25999        38700             0.059  \n",
       "\n",
       "[26000 rows x 11 columns]"
      ]
     },
     "execution_count": 60,
     "metadata": {},
     "output_type": "execute_result"
    }
   ],
   "source": [
    "results_df"
   ]
  },
  {
   "cell_type": "code",
   "execution_count": 1,
   "metadata": {},
   "outputs": [
    {
     "data": {
      "text/plain": [
       "'/Users/ellismok/Desktop/Challenges/covid19-unemployment'"
      ]
     },
     "execution_count": 1,
     "metadata": {},
     "output_type": "execute_result"
    }
   ],
   "source": [
    "pwd"
   ]
  },
  {
   "cell_type": "code",
   "execution_count": 62,
   "metadata": {},
   "outputs": [],
   "source": [
    "results_df.to_csv(\"/Users/ellismok/Desktop/Challenges/covid19-unemployment/employment_dataset.csv\")"
   ]
  },
  {
   "cell_type": "code",
   "execution_count": null,
   "metadata": {},
   "outputs": [],
   "source": []
  }
 ],
 "metadata": {
  "kernelspec": {
   "display_name": "Python 3",
   "language": "python",
   "name": "python3"
  },
  "language_info": {
   "codemirror_mode": {
    "name": "ipython",
    "version": 3
   },
   "file_extension": ".py",
   "mimetype": "text/x-python",
   "name": "python",
   "nbconvert_exporter": "python",
   "pygments_lexer": "ipython3",
   "version": "3.8.5"
  }
 },
 "nbformat": 4,
 "nbformat_minor": 4
}
